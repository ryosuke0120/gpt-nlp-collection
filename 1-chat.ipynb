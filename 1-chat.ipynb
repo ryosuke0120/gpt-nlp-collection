{
 "cells": [
  {
   "cell_type": "markdown",
   "metadata": {},
   "source": [
    "# 基本的なサンプルコード①\n",
    "\n",
    "ここではlangchainを使って、基本的なサンプルコードを紹介します。"
   ]
  },
  {
   "cell_type": "markdown",
   "metadata": {},
   "source": [
    "初めに以下のようにlangchainをインストールします。"
   ]
  },
  {
   "cell_type": "code",
   "execution_count": 1,
   "metadata": {},
   "outputs": [],
   "source": [
    "from langchain_openai import ChatOpenAI\n",
    "import dotenv\n",
    "dotenv.load_dotenv()\n",
    "\n",
    "model = ChatOpenAI(model=\"gpt-4o-mini\")\n"
   ]
  },
  {
   "cell_type": "markdown",
   "metadata": {},
   "source": [
    "## 基本的な会話\n",
    "\n",
    "ユーザーからの入力に対して応答を生成することができます。"
   ]
  },
  {
   "cell_type": "code",
   "execution_count": 2,
   "metadata": {},
   "outputs": [
    {
     "data": {
      "text/plain": [
       "AIMessage(content='こんにちは！もちろん、一緒にお話ししましょう。何について話したいですか？', response_metadata={'token_usage': {'completion_tokens': 20, 'prompt_tokens': 16, 'total_tokens': 36}, 'model_name': 'gpt-4o-mini-2024-07-18', 'system_fingerprint': 'fp_48196bc67a', 'finish_reason': 'stop', 'logprobs': None}, id='run-f49fd901-dc08-4bd0-b4c1-ec364067cee4-0', usage_metadata={'input_tokens': 16, 'output_tokens': 20, 'total_tokens': 36})"
      ]
     },
     "execution_count": 2,
     "metadata": {},
     "output_type": "execute_result"
    }
   ],
   "source": [
    "from langchain_core.messages import HumanMessage\n",
    "\n",
    "model.invoke([HumanMessage(content=\"こんにちは。一緒に会話をしてください。\")])"
   ]
  },
  {
   "cell_type": "markdown",
   "metadata": {},
   "source": [
    "また会話は複数のメッセージで構成することができます。"
   ]
  },
  {
   "cell_type": "code",
   "execution_count": 11,
   "metadata": {},
   "outputs": [
    {
     "name": "stdout",
     "output_type": "stream",
     "text": [
      "content='こんにちは！私はリアルタイムの情報を持っていないため、今日の天気を直接お伝えすることはできません。お住まいの地域の天気予報を確認するには、天気アプリやウェブサイトを利用することをおすすめします。何か他にお手伝いできることがあれば教えてください！' response_metadata={'token_usage': {'completion_tokens': 81, 'prompt_tokens': 22, 'total_tokens': 103}, 'model_name': 'gpt-4o-mini-2024-07-18', 'system_fingerprint': 'fp_ba606877f9', 'finish_reason': 'stop', 'logprobs': None} id='run-9fe11d6c-ab06-46c7-bb45-73cf84fa69de-0' usage_metadata={'input_tokens': 22, 'output_tokens': 81, 'total_tokens': 103}\n"
     ]
    }
   ],
   "source": [
    "# ユーザーからのメッセージを作成\n",
    "messages = [\n",
    "    HumanMessage(content=\"こんにちは。\"),\n",
    "    HumanMessage(content=\"今日の天気はどうですか？\")\n",
    "]\n",
    "\n",
    "# モデルにメッセージを送信して応答を取得\n",
    "response = model.invoke(messages)\n",
    "\n",
    "# 応答を表示\n",
    "print(response)"
   ]
  },
  {
   "cell_type": "markdown",
   "metadata": {},
   "source": [
    "## システムメッセージの利用\n",
    "\n",
    "モデルに特定の指示を与えるために、システムメッセージを利用することができます。"
   ]
  },
  {
   "cell_type": "code",
   "execution_count": 5,
   "metadata": {},
   "outputs": [
    {
     "name": "stdout",
     "output_type": "stream",
     "text": [
      "content='Hello. By using ChatGPT, you can perform translations.' response_metadata={'token_usage': {'completion_tokens': 12, 'prompt_tokens': 51, 'total_tokens': 63}, 'model_name': 'gpt-4o-mini-2024-07-18', 'system_fingerprint': 'fp_ba606877f9', 'finish_reason': 'stop', 'logprobs': None} id='run-f3833d35-ee16-49cc-85c2-0280a2677898-0' usage_metadata={'input_tokens': 51, 'output_tokens': 12, 'total_tokens': 63}\n"
     ]
    }
   ],
   "source": [
    "from langchain_core.messages import HumanMessage, SystemMessage\n",
    "\n",
    "# システムメッセージとユーザーメッセージを作成\n",
    "messages = [\n",
    "    SystemMessage(content=\"あなたは親切な翻訳者です。文章に対して英語に翻訳してください。\"),\n",
    "    HumanMessage(content=\"こんにちは。ChatGptを利用することで、翻訳を行うことができます。\")\n",
    "]\n",
    "\n",
    "# モデルにメッセージを送信して応答を取得\n",
    "response = model.invoke(messages)\n",
    "\n",
    "# 応答を表示\n",
    "print(response)"
   ]
  },
  {
   "cell_type": "markdown",
   "metadata": {},
   "source": [
    "## 仮の応答を踏まえた応答の生成\n",
    "\n",
    "ユーザーとAIの会話のやり取りを踏まえた応答にはAIメッセージを利用することができます。"
   ]
  },
  {
   "cell_type": "code",
   "execution_count": 6,
   "metadata": {},
   "outputs": [
    {
     "name": "stdout",
     "output_type": "stream",
     "text": [
      "content='Your name is Bob! How can I help you today?' response_metadata={'token_usage': {'completion_tokens': 12, 'prompt_tokens': 33, 'total_tokens': 45}, 'model_name': 'gpt-4o-mini-2024-07-18', 'system_fingerprint': 'fp_611b667b19', 'finish_reason': 'stop', 'logprobs': None} id='run-c8ffe013-1cfe-4b2e-85cb-e1b6bcd5566c-0' usage_metadata={'input_tokens': 33, 'output_tokens': 12, 'total_tokens': 45}\n"
     ]
    }
   ],
   "source": [
    "from langchain_core.messages import HumanMessage, AIMessage\n",
    "\n",
    "# ユーザーとAIのメッセージを作成\n",
    "messages = [\n",
    "    HumanMessage(content=\"Hi! I'm Bob\"),\n",
    "    AIMessage(content=\"Hello Bob! How can I assist you today?\"),\n",
    "    HumanMessage(content=\"What's my name?\"),\n",
    "]\n",
    "\n",
    "# モデルにメッセージを送信して応答を取得\n",
    "response = model.invoke(messages)\n",
    "\n",
    "# 応答を表示\n",
    "print(response)"
   ]
  },
  {
   "cell_type": "markdown",
   "metadata": {},
   "source": []
  }
 ],
 "metadata": {
  "kernelspec": {
   "display_name": "venv",
   "language": "python",
   "name": "python3"
  },
  "language_info": {
   "codemirror_mode": {
    "name": "ipython",
    "version": 3
   },
   "file_extension": ".py",
   "mimetype": "text/x-python",
   "name": "python",
   "nbconvert_exporter": "python",
   "pygments_lexer": "ipython3",
   "version": "3.11.0"
  }
 },
 "nbformat": 4,
 "nbformat_minor": 2
}
