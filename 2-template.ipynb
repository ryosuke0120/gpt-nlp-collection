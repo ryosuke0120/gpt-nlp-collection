{
 "cells": [
  {
   "cell_type": "markdown",
   "metadata": {},
   "source": [
    "# カスタム\n",
    "\n",
    "前節ではchat用のモデルを利用しましたが、カスタムでモデルを作成することもできます。\n",
    "\n",
    "ここでは、カスタムモデルを作成し、それを利用するサンプルを示します。"
   ]
  },
  {
   "cell_type": "code",
   "execution_count": 6,
   "metadata": {},
   "outputs": [
    {
     "data": {
      "text/plain": [
       "True"
      ]
     },
     "execution_count": 6,
     "metadata": {},
     "output_type": "execute_result"
    }
   ],
   "source": [
    "import dotenv\n",
    "dotenv.load_dotenv()"
   ]
  },
  {
   "cell_type": "markdown",
   "metadata": {},
   "source": [
    "## テンプレートを利用した応答の生成\n",
    "\n",
    "特定の文章にの中に、任意の入力を埋め込むことができます。\n",
    "\n",
    "その場合はテンプレートを利用することができます。"
   ]
  },
  {
   "cell_type": "code",
   "execution_count": 2,
   "metadata": {},
   "outputs": [
    {
     "name": "stdout",
     "output_type": "stream",
     "text": [
      "1. GCP-python-docker-cicd-sample-code\n",
      "2. GCP-python-cicd-pipeline\n",
      "3. Dockerized-python-cicd-github\n",
      "4. Python-github-actions-cicd\n",
      "5. GCP-python-cd-pipeline-example\n",
      "6. Docker-cicd-example-with-github\n",
      "7. Python-github-cicd-demo\n",
      "8. GCP-cicd-pipeline-using-python\n",
      "9. Sample-python-cicd-gcp-github\n",
      "10. Dockerized-ci-cd-example-with-python\n"
     ]
    }
   ],
   "source": [
    "from langchain.llms import OpenAI\n",
    "from langchain.prompts import PromptTemplate\n",
    "\n",
    "# LLM チェーンをインポート\n",
    "from langchain.chains import LLMChain\n",
    "\n",
    "# LLM ラッパーを初期化\n",
    "llm = OpenAI(temperature=0.9)  # temperature で文章の多様性を調整\n",
    "\n",
    "# プロンプトテンプレートの作成\n",
    "prompt = PromptTemplate(\n",
    "    input_variables=[\"details\"],\n",
    "    template=\"これはgithubがどのようなリポジトリか表します。「{details}」。このときそれを踏まえた上で、リポジトリ名の候補を10件ほどください。\",\n",
    ")\n",
    "\n",
    "# LLM チェーンを作成（LLM ラッパーとプロンプトテンプレートから構成する）\n",
    "chain = LLMChain(llm=llm, prompt=prompt)\n",
    "\n",
    "# LLM　チェーンを実行\n",
    "prediction = chain.run(\"GCP, python, Docker, GithubActionsを利用して、CI/CDパイプラインを構築するサンプルコード集です\")\n",
    "print(prediction.strip())\n"
   ]
  }
 ],
 "metadata": {
  "kernelspec": {
   "display_name": "venv",
   "language": "python",
   "name": "python3"
  },
  "language_info": {
   "codemirror_mode": {
    "name": "ipython",
    "version": 3
   },
   "file_extension": ".py",
   "mimetype": "text/x-python",
   "name": "python",
   "nbconvert_exporter": "python",
   "pygments_lexer": "ipython3",
   "version": "3.11.0"
  }
 },
 "nbformat": 4,
 "nbformat_minor": 2
}
